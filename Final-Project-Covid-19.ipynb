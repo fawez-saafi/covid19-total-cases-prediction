{
 "cells": [
  {
   "cell_type": "code",
   "execution_count": 41,
   "metadata": {
    "_cell_guid": "b1076dfc-b9ad-4769-8c92-a6c4dae69d19",
    "_uuid": "8f2839f25d086af736a60e9eeb907d3b93b6e0e5"
   },
   "outputs": [],
   "source": [
    "import numpy as np \n",
    "import pandas as pd \n",
    "import datetime\n",
    "import os\n",
    "\n",
    "from matplotlib import pyplot as plt\n"
   ]
  },
  {
   "cell_type": "code",
   "execution_count": 42,
   "metadata": {
    "_cell_guid": "79c7e3d0-c299-4dcb-8224-4455121ee9b0",
    "_uuid": "d629ff2d2480ee46fbb7e2d37f6b5fab8052498a"
   },
   "outputs": [
    {
     "data": {
      "text/plain": [
       "Index(['SNo', 'ObservationDate', 'Province/State', 'Country/Region',\n",
       "       'Last Update', 'Confirmed', 'Deaths', 'Recovered', 'Date', 'Outbreak'],\n",
       "      dtype='object')"
      ]
     },
     "execution_count": 42,
     "metadata": {},
     "output_type": "execute_result"
    }
   ],
   "source": [
    "df_covid_19 = pd.read_csv(\"covid_19_data.csv\")\n",
    "df_covid_19['Date'] = pd.to_datetime(df_covid_19['ObservationDate'])\n",
    "df_covid_19['Outbreak'] = 'COVID_2019'\n",
    "df_covid_19.columns"
   ]
  },
  {
   "cell_type": "code",
   "execution_count": 43,
   "metadata": {},
   "outputs": [],
   "source": [
    "df_sars_03 = pd.read_csv(\"sars_2003_complete_dataset_clean.csv\")\n",
    "df_sars_03['Date'] = pd.to_datetime(df_sars_03['Date'])\n",
    "df_sars_03['Province/State'] = None\n",
    "df_sars_03['Outbreak'] = 'SARS_2003'\n",
    "df_sars_03.rename({'Cumulative number of case(s)':'Confirmed', 'Number of deaths':'Deaths', 'Number recovered':'Recovered', 'Country':'Country/Region'},axis=1,inplace=True)"
   ]
  },
  {
   "cell_type": "code",
   "execution_count": 44,
   "metadata": {},
   "outputs": [],
   "source": [
    "templ_cols = ['Outbreak', 'Province/State', 'Country/Region', 'Date', 'Confirmed', 'Deaths', 'Recovered']\n",
    "df = pd.concat([df_covid_19[templ_cols], df_sars_03[templ_cols]])\n",
    "df = df.reset_index(drop=True)"
   ]
  },
  {
   "cell_type": "code",
   "execution_count": 45,
   "metadata": {},
   "outputs": [],
   "source": [
    "df['Confirmed'] = df['Confirmed'].fillna(0)\n",
    "df['Province/State'] = df['Province/State'].fillna('Others')\n",
    "df = df.sort_values(['Country/Region','Province/State','Date'])"
   ]
  },
  {
   "cell_type": "code",
   "execution_count": 46,
   "metadata": {},
   "outputs": [],
   "source": [
    "df = df.groupby(['Outbreak','Country/Region','Province/State','Date']).agg({'Confirmed':'sum'}).reset_index()\n",
    "df['Province/State'] = 'all'"
   ]
  },
  {
   "cell_type": "code",
   "execution_count": 47,
   "metadata": {},
   "outputs": [],
   "source": [
    "t = df.groupby(['Outbreak','Country/Region','Province/State']).agg({'Confirmed':'max'})\n",
    "t = t.loc[t['Confirmed'] >0]\n",
    "df = pd.merge(df,t[[]],left_on=['Outbreak','Country/Region','Province/State'], right_index=True)"
   ]
  },
  {
   "cell_type": "code",
   "execution_count": 48,
   "metadata": {},
   "outputs": [
    {
     "data": {
      "text/plain": [
       "US                 4294\n",
       "Mainland China     3311\n",
       "Canada             1015\n",
       "France              710\n",
       "Australia           709\n",
       "                   ... \n",
       " Azerbaijan           1\n",
       "('St. Martin',)       1\n",
       "Cape Verde            1\n",
       "North Ireland         1\n",
       "East Timor            1\n",
       "Name: Country/Region, Length: 231, dtype: int64"
      ]
     },
     "execution_count": 48,
     "metadata": {},
     "output_type": "execute_result"
    }
   ],
   "source": [
    "df['Country/Region'].value_counts()"
   ]
  },
  {
   "cell_type": "code",
   "execution_count": 49,
   "metadata": {},
   "outputs": [
    {
     "data": {
      "text/html": [
       "<div>\n",
       "<style scoped>\n",
       "    .dataframe tbody tr th:only-of-type {\n",
       "        vertical-align: middle;\n",
       "    }\n",
       "\n",
       "    .dataframe tbody tr th {\n",
       "        vertical-align: top;\n",
       "    }\n",
       "\n",
       "    .dataframe thead th {\n",
       "        text-align: right;\n",
       "    }\n",
       "</style>\n",
       "<table border=\"1\" class=\"dataframe\">\n",
       "  <thead>\n",
       "    <tr style=\"text-align: right;\">\n",
       "      <th></th>\n",
       "      <th>Country</th>\n",
       "      <th>Region</th>\n",
       "      <th>Population</th>\n",
       "      <th>Area (sq. mi.)</th>\n",
       "      <th>Pop. Density (per sq. mi.)</th>\n",
       "      <th>Coastline (coast/area ratio)</th>\n",
       "      <th>Net migration</th>\n",
       "      <th>Infant mortality (per 1000 births)</th>\n",
       "      <th>GDP ($ per capita)</th>\n",
       "      <th>Literacy (%)</th>\n",
       "      <th>Phones (per 1000)</th>\n",
       "      <th>Arable (%)</th>\n",
       "      <th>Crops (%)</th>\n",
       "      <th>Other (%)</th>\n",
       "      <th>Climate</th>\n",
       "      <th>Birthrate</th>\n",
       "      <th>Deathrate</th>\n",
       "      <th>Agriculture</th>\n",
       "      <th>Industry</th>\n",
       "      <th>Service</th>\n",
       "    </tr>\n",
       "  </thead>\n",
       "  <tbody>\n",
       "    <tr>\n",
       "      <td>0</td>\n",
       "      <td>Afghanistan</td>\n",
       "      <td>ASIA (EX. NEAR EAST)</td>\n",
       "      <td>31056997</td>\n",
       "      <td>647500</td>\n",
       "      <td>48,0</td>\n",
       "      <td>0,00</td>\n",
       "      <td>23,06</td>\n",
       "      <td>163,07</td>\n",
       "      <td>700.0</td>\n",
       "      <td>36,0</td>\n",
       "      <td>3,2</td>\n",
       "      <td>12,13</td>\n",
       "      <td>0,22</td>\n",
       "      <td>87,65</td>\n",
       "      <td>1</td>\n",
       "      <td>46,6</td>\n",
       "      <td>20,34</td>\n",
       "      <td>0,38</td>\n",
       "      <td>0,24</td>\n",
       "      <td>0,38</td>\n",
       "    </tr>\n",
       "    <tr>\n",
       "      <td>1</td>\n",
       "      <td>Albania</td>\n",
       "      <td>EASTERN EUROPE</td>\n",
       "      <td>3581655</td>\n",
       "      <td>28748</td>\n",
       "      <td>124,6</td>\n",
       "      <td>1,26</td>\n",
       "      <td>-4,93</td>\n",
       "      <td>21,52</td>\n",
       "      <td>4500.0</td>\n",
       "      <td>86,5</td>\n",
       "      <td>71,2</td>\n",
       "      <td>21,09</td>\n",
       "      <td>4,42</td>\n",
       "      <td>74,49</td>\n",
       "      <td>3</td>\n",
       "      <td>15,11</td>\n",
       "      <td>5,22</td>\n",
       "      <td>0,232</td>\n",
       "      <td>0,188</td>\n",
       "      <td>0,579</td>\n",
       "    </tr>\n",
       "    <tr>\n",
       "      <td>2</td>\n",
       "      <td>Algeria</td>\n",
       "      <td>NORTHERN AFRICA</td>\n",
       "      <td>32930091</td>\n",
       "      <td>2381740</td>\n",
       "      <td>13,8</td>\n",
       "      <td>0,04</td>\n",
       "      <td>-0,39</td>\n",
       "      <td>31</td>\n",
       "      <td>6000.0</td>\n",
       "      <td>70,0</td>\n",
       "      <td>78,1</td>\n",
       "      <td>3,22</td>\n",
       "      <td>0,25</td>\n",
       "      <td>96,53</td>\n",
       "      <td>1</td>\n",
       "      <td>17,14</td>\n",
       "      <td>4,61</td>\n",
       "      <td>0,101</td>\n",
       "      <td>0,6</td>\n",
       "      <td>0,298</td>\n",
       "    </tr>\n",
       "    <tr>\n",
       "      <td>3</td>\n",
       "      <td>American Samoa</td>\n",
       "      <td>OCEANIA</td>\n",
       "      <td>57794</td>\n",
       "      <td>199</td>\n",
       "      <td>290,4</td>\n",
       "      <td>58,29</td>\n",
       "      <td>-20,71</td>\n",
       "      <td>9,27</td>\n",
       "      <td>8000.0</td>\n",
       "      <td>97,0</td>\n",
       "      <td>259,5</td>\n",
       "      <td>10</td>\n",
       "      <td>15</td>\n",
       "      <td>75</td>\n",
       "      <td>2</td>\n",
       "      <td>22,46</td>\n",
       "      <td>3,27</td>\n",
       "      <td>NaN</td>\n",
       "      <td>NaN</td>\n",
       "      <td>NaN</td>\n",
       "    </tr>\n",
       "    <tr>\n",
       "      <td>4</td>\n",
       "      <td>Andorra</td>\n",
       "      <td>WESTERN EUROPE</td>\n",
       "      <td>71201</td>\n",
       "      <td>468</td>\n",
       "      <td>152,1</td>\n",
       "      <td>0,00</td>\n",
       "      <td>6,6</td>\n",
       "      <td>4,05</td>\n",
       "      <td>19000.0</td>\n",
       "      <td>100,0</td>\n",
       "      <td>497,2</td>\n",
       "      <td>2,22</td>\n",
       "      <td>0</td>\n",
       "      <td>97,78</td>\n",
       "      <td>3</td>\n",
       "      <td>8,71</td>\n",
       "      <td>6,25</td>\n",
       "      <td>NaN</td>\n",
       "      <td>NaN</td>\n",
       "      <td>NaN</td>\n",
       "    </tr>\n",
       "    <tr>\n",
       "      <td>...</td>\n",
       "      <td>...</td>\n",
       "      <td>...</td>\n",
       "      <td>...</td>\n",
       "      <td>...</td>\n",
       "      <td>...</td>\n",
       "      <td>...</td>\n",
       "      <td>...</td>\n",
       "      <td>...</td>\n",
       "      <td>...</td>\n",
       "      <td>...</td>\n",
       "      <td>...</td>\n",
       "      <td>...</td>\n",
       "      <td>...</td>\n",
       "      <td>...</td>\n",
       "      <td>...</td>\n",
       "      <td>...</td>\n",
       "      <td>...</td>\n",
       "      <td>...</td>\n",
       "      <td>...</td>\n",
       "      <td>...</td>\n",
       "    </tr>\n",
       "    <tr>\n",
       "      <td>222</td>\n",
       "      <td>West Bank</td>\n",
       "      <td>NEAR EAST</td>\n",
       "      <td>2460492</td>\n",
       "      <td>5860</td>\n",
       "      <td>419,9</td>\n",
       "      <td>0,00</td>\n",
       "      <td>2,98</td>\n",
       "      <td>19,62</td>\n",
       "      <td>800.0</td>\n",
       "      <td>NaN</td>\n",
       "      <td>145,2</td>\n",
       "      <td>16,9</td>\n",
       "      <td>18,97</td>\n",
       "      <td>64,13</td>\n",
       "      <td>3</td>\n",
       "      <td>31,67</td>\n",
       "      <td>3,92</td>\n",
       "      <td>0,09</td>\n",
       "      <td>0,28</td>\n",
       "      <td>0,63</td>\n",
       "    </tr>\n",
       "    <tr>\n",
       "      <td>223</td>\n",
       "      <td>Western Sahara</td>\n",
       "      <td>NORTHERN AFRICA</td>\n",
       "      <td>273008</td>\n",
       "      <td>266000</td>\n",
       "      <td>1,0</td>\n",
       "      <td>0,42</td>\n",
       "      <td>NaN</td>\n",
       "      <td>NaN</td>\n",
       "      <td>NaN</td>\n",
       "      <td>NaN</td>\n",
       "      <td>NaN</td>\n",
       "      <td>0,02</td>\n",
       "      <td>0</td>\n",
       "      <td>99,98</td>\n",
       "      <td>1</td>\n",
       "      <td>NaN</td>\n",
       "      <td>NaN</td>\n",
       "      <td>NaN</td>\n",
       "      <td>NaN</td>\n",
       "      <td>0,4</td>\n",
       "    </tr>\n",
       "    <tr>\n",
       "      <td>224</td>\n",
       "      <td>Yemen</td>\n",
       "      <td>NEAR EAST</td>\n",
       "      <td>21456188</td>\n",
       "      <td>527970</td>\n",
       "      <td>40,6</td>\n",
       "      <td>0,36</td>\n",
       "      <td>0</td>\n",
       "      <td>61,5</td>\n",
       "      <td>800.0</td>\n",
       "      <td>50,2</td>\n",
       "      <td>37,2</td>\n",
       "      <td>2,78</td>\n",
       "      <td>0,24</td>\n",
       "      <td>96,98</td>\n",
       "      <td>1</td>\n",
       "      <td>42,89</td>\n",
       "      <td>8,3</td>\n",
       "      <td>0,135</td>\n",
       "      <td>0,472</td>\n",
       "      <td>0,393</td>\n",
       "    </tr>\n",
       "    <tr>\n",
       "      <td>225</td>\n",
       "      <td>Zambia</td>\n",
       "      <td>SUB-SAHARAN AFRICA</td>\n",
       "      <td>11502010</td>\n",
       "      <td>752614</td>\n",
       "      <td>15,3</td>\n",
       "      <td>0,00</td>\n",
       "      <td>0</td>\n",
       "      <td>88,29</td>\n",
       "      <td>800.0</td>\n",
       "      <td>80,6</td>\n",
       "      <td>8,2</td>\n",
       "      <td>7,08</td>\n",
       "      <td>0,03</td>\n",
       "      <td>92,9</td>\n",
       "      <td>2</td>\n",
       "      <td>41</td>\n",
       "      <td>19,93</td>\n",
       "      <td>0,22</td>\n",
       "      <td>0,29</td>\n",
       "      <td>0,489</td>\n",
       "    </tr>\n",
       "    <tr>\n",
       "      <td>226</td>\n",
       "      <td>Zimbabwe</td>\n",
       "      <td>SUB-SAHARAN AFRICA</td>\n",
       "      <td>12236805</td>\n",
       "      <td>390580</td>\n",
       "      <td>31,3</td>\n",
       "      <td>0,00</td>\n",
       "      <td>0</td>\n",
       "      <td>67,69</td>\n",
       "      <td>1900.0</td>\n",
       "      <td>90,7</td>\n",
       "      <td>26,8</td>\n",
       "      <td>8,32</td>\n",
       "      <td>0,34</td>\n",
       "      <td>91,34</td>\n",
       "      <td>2</td>\n",
       "      <td>28,01</td>\n",
       "      <td>21,84</td>\n",
       "      <td>0,179</td>\n",
       "      <td>0,243</td>\n",
       "      <td>0,579</td>\n",
       "    </tr>\n",
       "  </tbody>\n",
       "</table>\n",
       "<p>227 rows × 20 columns</p>\n",
       "</div>"
      ],
      "text/plain": [
       "            Country                               Region  Population  \\\n",
       "0       Afghanistan        ASIA (EX. NEAR EAST)             31056997   \n",
       "1           Albania  EASTERN EUROPE                          3581655   \n",
       "2           Algeria  NORTHERN AFRICA                        32930091   \n",
       "3    American Samoa  OCEANIA                                   57794   \n",
       "4           Andorra  WESTERN EUROPE                            71201   \n",
       "..              ...                                  ...         ...   \n",
       "222       West Bank  NEAR EAST                               2460492   \n",
       "223  Western Sahara  NORTHERN AFRICA                          273008   \n",
       "224           Yemen  NEAR EAST                              21456188   \n",
       "225          Zambia  SUB-SAHARAN AFRICA                     11502010   \n",
       "226        Zimbabwe  SUB-SAHARAN AFRICA                     12236805   \n",
       "\n",
       "     Area (sq. mi.) Pop. Density (per sq. mi.) Coastline (coast/area ratio)  \\\n",
       "0            647500                       48,0                         0,00   \n",
       "1             28748                      124,6                         1,26   \n",
       "2           2381740                       13,8                         0,04   \n",
       "3               199                      290,4                        58,29   \n",
       "4               468                      152,1                         0,00   \n",
       "..              ...                        ...                          ...   \n",
       "222            5860                      419,9                         0,00   \n",
       "223          266000                        1,0                         0,42   \n",
       "224          527970                       40,6                         0,36   \n",
       "225          752614                       15,3                         0,00   \n",
       "226          390580                       31,3                         0,00   \n",
       "\n",
       "    Net migration Infant mortality (per 1000 births)  GDP ($ per capita)  \\\n",
       "0           23,06                             163,07               700.0   \n",
       "1           -4,93                              21,52              4500.0   \n",
       "2           -0,39                                 31              6000.0   \n",
       "3          -20,71                               9,27              8000.0   \n",
       "4             6,6                               4,05             19000.0   \n",
       "..            ...                                ...                 ...   \n",
       "222          2,98                              19,62               800.0   \n",
       "223           NaN                                NaN                 NaN   \n",
       "224             0                               61,5               800.0   \n",
       "225             0                              88,29               800.0   \n",
       "226             0                              67,69              1900.0   \n",
       "\n",
       "    Literacy (%) Phones (per 1000) Arable (%) Crops (%) Other (%) Climate  \\\n",
       "0           36,0               3,2      12,13      0,22     87,65       1   \n",
       "1           86,5              71,2      21,09      4,42     74,49       3   \n",
       "2           70,0              78,1       3,22      0,25     96,53       1   \n",
       "3           97,0             259,5         10        15        75       2   \n",
       "4          100,0             497,2       2,22         0     97,78       3   \n",
       "..           ...               ...        ...       ...       ...     ...   \n",
       "222          NaN             145,2       16,9     18,97     64,13       3   \n",
       "223          NaN               NaN       0,02         0     99,98       1   \n",
       "224         50,2              37,2       2,78      0,24     96,98       1   \n",
       "225         80,6               8,2       7,08      0,03      92,9       2   \n",
       "226         90,7              26,8       8,32      0,34     91,34       2   \n",
       "\n",
       "    Birthrate Deathrate Agriculture Industry Service  \n",
       "0        46,6     20,34        0,38     0,24    0,38  \n",
       "1       15,11      5,22       0,232    0,188   0,579  \n",
       "2       17,14      4,61       0,101      0,6   0,298  \n",
       "3       22,46      3,27         NaN      NaN     NaN  \n",
       "4        8,71      6,25         NaN      NaN     NaN  \n",
       "..        ...       ...         ...      ...     ...  \n",
       "222     31,67      3,92        0,09     0,28    0,63  \n",
       "223       NaN       NaN         NaN      NaN     0,4  \n",
       "224     42,89       8,3       0,135    0,472   0,393  \n",
       "225        41     19,93        0,22     0,29   0,489  \n",
       "226     28,01     21,84       0,179    0,243   0,579  \n",
       "\n",
       "[227 rows x 20 columns]"
      ]
     },
     "execution_count": 49,
     "metadata": {},
     "output_type": "execute_result"
    }
   ],
   "source": [
    "country_data = pd.read_csv(\"countries of the world.csv\")\n",
    "country_data['Country'] = country_data['Country'].str.strip()\n",
    "country_data"
   ]
  },
  {
   "cell_type": "code",
   "execution_count": 50,
   "metadata": {},
   "outputs": [
    {
     "data": {
      "text/plain": [
       "<bound method NDFrame.head of          Outbreak   Country/Region Province/State       Date  Confirmed  \\\n",
       "0      COVID_2019       Azerbaijan            all 2020-02-28        1.0   \n",
       "1      COVID_2019  ('St. Martin',)            all 2020-03-10        2.0   \n",
       "2      COVID_2019      Afghanistan            all 2020-02-24        1.0   \n",
       "3      COVID_2019      Afghanistan            all 2020-02-25        1.0   \n",
       "4      COVID_2019      Afghanistan            all 2020-02-26        1.0   \n",
       "...           ...              ...            ...        ...        ...   \n",
       "25040   SARS_2003          Vietnam            all 2003-07-07       63.0   \n",
       "25041   SARS_2003          Vietnam            all 2003-07-08       63.0   \n",
       "25042   SARS_2003          Vietnam            all 2003-07-09       63.0   \n",
       "25043   SARS_2003          Vietnam            all 2003-07-10       63.0   \n",
       "25044   SARS_2003          Vietnam            all 2003-07-11       63.0   \n",
       "\n",
       "           Country                         Region  Population  Area (sq. mi.)  \\\n",
       "0              NaN                            NaN         NaN             NaN   \n",
       "1              NaN                            NaN         NaN             NaN   \n",
       "2      Afghanistan  ASIA (EX. NEAR EAST)           31056997.0        647500.0   \n",
       "3      Afghanistan  ASIA (EX. NEAR EAST)           31056997.0        647500.0   \n",
       "4      Afghanistan  ASIA (EX. NEAR EAST)           31056997.0        647500.0   \n",
       "...            ...                            ...         ...             ...   \n",
       "25040      Vietnam  ASIA (EX. NEAR EAST)           84402966.0        329560.0   \n",
       "25041      Vietnam  ASIA (EX. NEAR EAST)           84402966.0        329560.0   \n",
       "25042      Vietnam  ASIA (EX. NEAR EAST)           84402966.0        329560.0   \n",
       "25043      Vietnam  ASIA (EX. NEAR EAST)           84402966.0        329560.0   \n",
       "25044      Vietnam  ASIA (EX. NEAR EAST)           84402966.0        329560.0   \n",
       "\n",
       "      Pop. Density (per sq. mi.)  ... Phones (per 1000) Arable (%) Crops (%)  \\\n",
       "0                            NaN  ...               NaN        NaN       NaN   \n",
       "1                            NaN  ...               NaN        NaN       NaN   \n",
       "2                           48,0  ...               3,2      12,13      0,22   \n",
       "3                           48,0  ...               3,2      12,13      0,22   \n",
       "4                           48,0  ...               3,2      12,13      0,22   \n",
       "...                          ...  ...               ...        ...       ...   \n",
       "25040                      256,1  ...             187,7      19,97      5,95   \n",
       "25041                      256,1  ...             187,7      19,97      5,95   \n",
       "25042                      256,1  ...             187,7      19,97      5,95   \n",
       "25043                      256,1  ...             187,7      19,97      5,95   \n",
       "25044                      256,1  ...             187,7      19,97      5,95   \n",
       "\n",
       "       Other (%) Climate Birthrate Deathrate Agriculture Industry Service  \n",
       "0            NaN     NaN       NaN       NaN         NaN      NaN     NaN  \n",
       "1            NaN     NaN       NaN       NaN         NaN      NaN     NaN  \n",
       "2          87,65       1      46,6     20,34        0,38     0,24    0,38  \n",
       "3          87,65       1      46,6     20,34        0,38     0,24    0,38  \n",
       "4          87,65       1      46,6     20,34        0,38     0,24    0,38  \n",
       "...          ...     ...       ...       ...         ...      ...     ...  \n",
       "25040      74,08       2     16,86      6,22       0,209     0,41   0,381  \n",
       "25041      74,08       2     16,86      6,22       0,209     0,41   0,381  \n",
       "25042      74,08       2     16,86      6,22       0,209     0,41   0,381  \n",
       "25043      74,08       2     16,86      6,22       0,209     0,41   0,381  \n",
       "25044      74,08       2     16,86      6,22       0,209     0,41   0,381  \n",
       "\n",
       "[25045 rows x 25 columns]>"
      ]
     },
     "execution_count": 50,
     "metadata": {},
     "output_type": "execute_result"
    }
   ],
   "source": [
    "df.loc[df['Country/Region']=='US','Country/Region'] = 'United States'\n",
    "df.loc[df['Country/Region']=='Mainland China','Country/Region'] = 'China'\n",
    "df.loc[df['Country/Region']=='Viet Nam','Country/Region'] = 'Vietnam'\n",
    "df.loc[df['Country/Region']=='UK','Country/Region'] = 'United Kingdom'\n",
    "df.loc[df['Country/Region']=='South Korea','Country/Region'] = 'Korea, South'\n",
    "df.loc[df['Country/Region']=='Taiwan, China','Country/Region'] = 'Taiwan'\n",
    "df.loc[df['Country/Region']=='Hong Kong SAR, China','Country/Region'] = 'Hong Kong'\n",
    "\n",
    "df = pd.merge(df, country_data, how='left', left_on=['Country/Region'], right_on=['Country'])\n",
    "df['Date'] = pd.to_datetime(df['Date'])\n",
    "df.head"
   ]
  },
  {
   "cell_type": "code",
   "execution_count": 51,
   "metadata": {},
   "outputs": [
    {
     "data": {
      "text/plain": [
       "Republic of Ireland               93\n",
       "North Macedonia                   72\n",
       "Bosnia and Herzegovina            64\n",
       "Ivory Coast                       59\n",
       "Republic of Korea                 59\n",
       "Holy See                          59\n",
       "Congo (Kinshasa)                  58\n",
       "Macao SAR, China                  58\n",
       "Antigua and Barbuda               56\n",
       "Trinidad and Tobago               55\n",
       "Eswatini                          55\n",
       "Central African Republic          54\n",
       "Congo (Brazzaville)               54\n",
       "Montenegro                        52\n",
       "Kosovo                            50\n",
       "Cabo Verde                        49\n",
       "Bahamas                           47\n",
       "Gambia                            47\n",
       "Timor-Leste                       47\n",
       "Others                            46\n",
       "Saint Kitts and Nevis             44\n",
       "Diamond Princess                  44\n",
       "West Bank and Gaza                43\n",
       "MS Zaandam                        41\n",
       "South Sudan                       33\n",
       "Sao Tome and Principe             32\n",
       "Russian Federation                31\n",
       "Saint Barthelemy                   7\n",
       "occupied Palestinian territory     7\n",
       "The Bahamas                        6\n",
       "Republic of the Congo              6\n",
       "The Gambia                         5\n",
       "Palestine                          5\n",
       "Vatican City                       4\n",
       "Curacao                            2\n",
       "St. Martin                         1\n",
       "('St. Martin',)                    1\n",
       "North Ireland                      1\n",
       " Azerbaijan                        1\n",
       "Channel Islands                    1\n",
       "Name: Country/Region, dtype: int64"
      ]
     },
     "execution_count": 51,
     "metadata": {},
     "output_type": "execute_result"
    }
   ],
   "source": [
    "df.loc[df['Country'].isnull()]['Country/Region'].value_counts()"
   ]
  },
  {
   "cell_type": "code",
   "execution_count": 52,
   "metadata": {},
   "outputs": [],
   "source": [
    "df.loc[df['Region'].isnull(), 'Region'] = 'Others'\n",
    "df.loc[df['Country'].isnull(), 'Country'] = 'Undefined'"
   ]
  },
  {
   "cell_type": "code",
   "execution_count": 53,
   "metadata": {},
   "outputs": [
    {
     "data": {
      "text/plain": [
       "United States     4388\n",
       "China             3406\n",
       "Undefined         1449\n",
       "Canada            1015\n",
       "France             710\n",
       "                  ... \n",
       "Gambia, The          4\n",
       "Bahamas, The         3\n",
       "Cayman Islands       3\n",
       "East Timor           1\n",
       "Cape Verde           1\n",
       "Name: Country, Length: 186, dtype: int64"
      ]
     },
     "execution_count": 53,
     "metadata": {},
     "output_type": "execute_result"
    }
   ],
   "source": [
    "df['Country'].value_counts()"
   ]
  },
  {
   "cell_type": "markdown",
   "metadata": {},
   "source": [
    "## Normalisation"
   ]
  },
  {
   "cell_type": "code",
   "execution_count": 54,
   "metadata": {},
   "outputs": [
    {
     "data": {
      "image/png": "[encoded data removed]",
      "text/plain": [
       "<Figure size 1152x432 with 2 Axes>"
      ]
     },
     "metadata": {
      "needs_background": "light"
     },
     "output_type": "display_data"
    }
   ],
   "source": [
    "fix, ax = plt.subplots(figsize=(16,6), ncols=2)\n",
    "s0 = df['Confirmed']\n",
    "s0.plot.hist(ax=ax[0])\n",
    "\n",
    "from sklearn.preprocessing import MinMaxScaler\n",
    "transformer = MinMaxScaler(feature_range=(0,1)).fit(np.asarray([0, 2E5]).reshape(-1,1)) \n",
    "\n",
    "s1 = pd.Series(transformer.transform(s0.values.reshape(-1,1)).reshape(-1))\n",
    "s1.plot.hist(ax=ax[1])\n",
    "df['Confirmed_transformed'] = s1 "
   ]
  },
  {
   "cell_type": "markdown",
   "metadata": {},
   "source": [
    "### transforming date "
   ]
  },
  {
   "cell_type": "code",
   "execution_count": 55,
   "metadata": {},
   "outputs": [],
   "source": [
    "df['Month'] = df['Date'].dt.month\n",
    "df['Week'] = df['Date'].dt.week"
   ]
  },
  {
   "cell_type": "markdown",
   "metadata": {},
   "source": [
    "**Lags**\n",
    "\n",
    "We use a 5-day-lag window to estimate the future development"
   ]
  },
  {
   "cell_type": "code",
   "execution_count": 56,
   "metadata": {},
   "outputs": [
    {
     "name": "stdout",
     "output_type": "stream",
     "text": [
      "Dataframe shape (25045, 38)\n"
     ]
    }
   ],
   "source": [
    "n_lags = 5\n",
    "for k,v in df.groupby(['Outbreak','Country/Region','Province/State']):    \n",
    "    for d in range(n_lags,0,-1):                \n",
    "        df.loc[v.index, f'Confirmed_Lag_{d}'] = v['Confirmed'].shift(d)\n",
    "        df.loc[v.index, f'Confirmed_Transformed_Lag_{d}'] = v['Confirmed_transformed'].shift(d)\n",
    "\n",
    "X_mask_lags = [c for c in df.columns if 'Confirmed_Lag_' in c]\n",
    "X_mask_lags_transformed = [c for c in df.columns if 'Confirmed_Transformed_Lag_' in c]\n",
    "\n",
    "df[X_mask_lags] = df[X_mask_lags].fillna(0)\n",
    "df[X_mask_lags_transformed] = df[X_mask_lags_transformed].fillna(0)\n",
    "\n",
    "print(f'Dataframe shape {df.shape}')"
   ]
  },
  {
   "cell_type": "code",
   "execution_count": 57,
   "metadata": {},
   "outputs": [
    {
     "data": {
      "text/plain": [
       "Undefined       867\n",
       "Hong Kong       203\n",
       "Taiwan          202\n",
       "China           202\n",
       "Singapore       202\n",
       "               ... \n",
       "Mali             44\n",
       "Burma            42\n",
       "Sierra Leone     38\n",
       "Guadeloupe        9\n",
       "Tajikistan        8\n",
       "Name: Country, Length: 143, dtype: int64"
      ]
     },
     "execution_count": 57,
     "metadata": {},
     "output_type": "execute_result"
    },
    {
     "data": {
      "image/png": "[encoded data removed]",
      "text/plain": [
       "<Figure size 1152x432 with 2 Axes>"
      ]
     },
     "metadata": {
      "needs_background": "light"
     },
     "output_type": "display_data"
    }
   ],
   "source": [
    "df_covid_19 = pd.read_csv(\"covid_19_data.csv\")\n",
    "df_covid_19['Date'] = pd.to_datetime(df_covid_19['ObservationDate'])\n",
    "df_covid_19['Outbreak'] = 'COVID_2019'\n",
    "df_sars_03 = pd.read_csv(\"sars_2003_complete_dataset_clean.csv\")\n",
    "df_sars_03['Date'] = pd.to_datetime(df_sars_03['Date'])\n",
    "df_sars_03['Province/State'] = None\n",
    "df_sars_03['Outbreak'] = 'SARS_2003'\n",
    "df_sars_03.rename({'Cumulative number of case(s)':'Confirmed', 'Number of deaths':'Deaths', 'Number recovered':'Recovered', 'Country':'Country/Region'},axis=1,inplace=True)\n",
    "templ_cols = ['Outbreak', 'Province/State', 'Country/Region', 'Date', 'Confirmed', 'Deaths', 'Recovered']\n",
    "df = df.reset_index(drop=True)\n",
    "df = df.groupby(['Outbreak','Country/Region','Province/State','Date']).agg({'Confirmed':'sum'}).reset_index()\n",
    "df['Province/State'] = 'all'\n",
    "t = df.groupby(['Outbreak','Country/Region','Province/State']).agg({'Confirmed':'max'})\n",
    "t = t.loc[t['Confirmed'] > 50]\n",
    "df = pd.merge(df,t[[]],left_on=['Outbreak','Country/Region','Province/State'], right_index=True)\n",
    "country_data = pd.read_csv(\"countries of the world.csv\")\n",
    "country_data['Country'] = country_data['Country'].str.strip()\n",
    "df.loc[df['Country/Region']=='US','Country/Region'] = 'United States'\n",
    "df.loc[df['Country/Region']=='Mainland China','Country/Region'] = 'China'\n",
    "df.loc[df['Country/Region']=='Viet Nam','Country/Region'] = 'Vietnam'\n",
    "df.loc[df['Country/Region']=='UK','Country/Region'] = 'United Kingdom'\n",
    "df.loc[df['Country/Region']=='South Korea','Country/Region'] = 'Korea, South'\n",
    "df.loc[df['Country/Region']=='Taiwan, China','Country/Region'] = 'Taiwan'\n",
    "df.loc[df['Country/Region']=='Hong Kong SAR, China','Country/Region'] = 'Hong Kong'\n",
    "\n",
    "df = pd.merge(df, country_data, how='left', left_on=['Country/Region'], right_on=['Country'])\n",
    "df['Date'] = pd.to_datetime(df['Date'])\n",
    "df.loc[df['Region'].isnull(), 'Region'] = 'Others'\n",
    "df.loc[df['Country'].isnull(), 'Country'] = 'Undefined'\n",
    "fix, ax = plt.subplots(figsize=(16,6), ncols=2)\n",
    "s0 = df['Confirmed']\n",
    "s0.plot.hist(ax=ax[0])\n",
    "\n",
    "from sklearn.preprocessing import MinMaxScaler\n",
    "transformer = MinMaxScaler(feature_range=(0,1)).fit(np.asarray([0, 2E5]).reshape(-1,1))\n",
    "\n",
    "s1 = pd.Series(transformer.transform(s0.values.reshape(-1,1)).reshape(-1))\n",
    "s1.plot.hist(ax=ax[1])\n",
    "df['Confirmed_transformed'] = s1 \n",
    "df['Month'] = df['Date'].dt.month\n",
    "df['Week'] = df['Date'].dt.week\n",
    "n_lags = 5\n",
    "for k,v in df.groupby(['Outbreak','Country/Region','Province/State']):    \n",
    "    for d in range(n_lags,0,-1):                \n",
    "        df.loc[v.index, f'Confirmed_Lag_{d}'] = v['Confirmed'].shift(d)\n",
    "        \n",
    "        df.loc[v.index, f'Confirmed_Transformed_Lag_{d}'] = v['Confirmed_transformed'].shift(d)\n",
    "\n",
    "X_mask_lags = [c for c in df.columns if 'Confirmed_Lag_' in c]\n",
    "X_mask_lags_transformed = [c for c in df.columns if 'Confirmed_Transformed_Lag_' in c]\n",
    "\n",
    "df[X_mask_lags] = df[X_mask_lags].fillna(0)\n",
    "df[X_mask_lags_transformed] = df[X_mask_lags_transformed].fillna(0)\n",
    "df['Country'].value_counts()\n"
   ]
  },
  {
   "cell_type": "markdown",
   "metadata": {},
   "source": []
  },
  {
   "cell_type": "code",
   "execution_count": 58,
   "metadata": {},
   "outputs": [],
   "source": [
    "from sklearn.preprocessing import LabelEncoder\n",
    "enc_outb = LabelEncoder().fit(df['Outbreak'])\n",
    "df['Outbreak_enc'] = enc_outb.transform(df['Outbreak'])\n",
    "\n",
    "enc_ctry = LabelEncoder().fit(df['Country/Region'])\n",
    "df['Country_enc'] = enc_ctry.transform(df['Country/Region'])\n",
    "\n",
    "enc_region = LabelEncoder().fit(df['Region'])\n",
    "df['Region_enc'] = enc_region.transform(df['Region'])"
   ]
  },
  {
   "cell_type": "markdown",
   "metadata": {},
   "source": [
    "## Machine Learning with LGBM"
   ]
  },
  {
   "cell_type": "code",
   "execution_count": 59,
   "metadata": {},
   "outputs": [
    {
     "name": "stdout",
     "output_type": "stream",
     "text": [
      "Train/Test shape (10162, 41)\n"
     ]
    }
   ],
   "source": [
    "from sklearn.model_selection import train_test_split\n",
    "\n",
    "X_mask_cat = ['Outbreak_enc','Region_enc', 'Month','Week']\n",
    "train_test = df.loc[df['Confirmed'] >0].copy()\n",
    "s_unique_values = train_test[X_mask_lags].apply(lambda r: len(np.unique(r.values)), axis=1)\n",
    "train_test = train_test.loc[s_unique_values > 1].copy()\n",
    "print(f'Train/Test shape {train_test.shape}')\n",
    "\n",
    "train, valid = train_test_split(train_test, test_size=0.2, shuffle=True, random_state=231451)"
   ]
  },
  {
   "cell_type": "code",
   "execution_count": 60,
   "metadata": {},
   "outputs": [
    {
     "name": "stdout",
     "output_type": "stream",
     "text": [
      "Fitting on data with shape (8129, 9) with validation of shape (2033, 9)\n",
      "Training until validation scores don't improve for 50 rounds\n",
      "[10]\tvalid_0's l1: 5661.36\n",
      "[20]\tvalid_0's l1: 2085.28\n",
      "[30]\tvalid_0's l1: 905.164\n",
      "[40]\tvalid_0's l1: 565.418\n",
      "[50]\tvalid_0's l1: 470.635\n",
      "[60]\tvalid_0's l1: 440.911\n",
      "[70]\tvalid_0's l1: 428.061\n",
      "[80]\tvalid_0's l1: 421.773\n",
      "[90]\tvalid_0's l1: 419.096\n",
      "[100]\tvalid_0's l1: 416.726\n",
      "[110]\tvalid_0's l1: 414.57\n",
      "[120]\tvalid_0's l1: 412.701\n",
      "[130]\tvalid_0's l1: 411.435\n",
      "[140]\tvalid_0's l1: 412.337\n",
      "[150]\tvalid_0's l1: 413.066\n",
      "[160]\tvalid_0's l1: 414.483\n",
      "[170]\tvalid_0's l1: 415.468\n",
      "[180]\tvalid_0's l1: 415.802\n",
      "Early stopping, best iteration is:\n",
      "[139]\tvalid_0's l1: 410.837\n"
     ]
    },
    {
     "data": {
      "text/plain": [
       "LGBMRegressor(boosting_type='gbdt', class_weight=None, colsample_bytree=1.0,\n",
       "              importance_type='split', learning_rate=0.1, max_depth=-1,\n",
       "              metric='mae', min_child_samples=5, min_child_weight=1e-06,\n",
       "              min_split_gain=0.0, n_estimators=200, n_jobs=-1, num_leaves=31,\n",
       "              objective=None, random_state=1234, reg_alpha=0.0, reg_lambda=0.0,\n",
       "              silent=True, subsample=1.0, subsample_for_bin=200000,\n",
       "              subsample_freq=0)"
      ]
     },
     "execution_count": 60,
     "metadata": {},
     "output_type": "execute_result"
    }
   ],
   "source": [
    "from lightgbm import LGBMRegressor    \n",
    "model_lgbm = LGBMRegressor(n_estimators=200, metric='mae', random_state=1234, min_child_samples=5, min_child_weight=0.000001)\n",
    "\n",
    "print(f'Fitting on data with shape {train[X_mask_cat+X_mask_lags].shape} with validation of shape {valid[X_mask_cat+X_mask_lags].shape}')\n",
    "\n",
    "model_lgbm.fit(X=train[X_mask_cat+X_mask_lags], y=train['Confirmed'], \n",
    "               eval_set=(valid[X_mask_cat+X_mask_lags], valid['Confirmed']),\n",
    "               early_stopping_rounds=50, verbose=10)"
   ]
  },
  {
   "cell_type": "markdown",
   "metadata": {},
   "source": [
    "Out-of-sample prediction with 28 steps (days)"
   ]
  },
  {
   "cell_type": "code",
   "execution_count": 61,
   "metadata": {},
   "outputs": [
    {
     "name": "stdout",
     "output_type": "stream",
     "text": [
      "History 0:  [1009.0 1013.0 1018.0 1022.0 1025.0]\n",
      "Pred 0:  [1013.0 1018.0 1022.0 1025.0 1026.0]\n",
      "Step 0, predicted for 2020-05-08 is: 1089.8942564530598\n",
      "Step 1, predicted for 2020-05-09 is: 1131.9758575038027\n",
      "Step 2, predicted for 2020-05-10 is: 1211.7265976403223\n",
      "Step 3, predicted for 2020-05-11 is: 1301.4828865265845\n",
      "Step 4, predicted for 2020-05-12 is: 1306.782106997138\n",
      "Step 5, predicted for 2020-05-13 is: 1306.782106997138\n",
      "Step 6, predicted for 2020-05-14 is: 1306.782106997138\n",
      "Step 7, predicted for 2020-05-15 is: 1306.782106997138\n",
      "Step 8, predicted for 2020-05-16 is: 1306.782106997138\n",
      "Step 9, predicted for 2020-05-17 is: 1306.782106997138\n"
     ]
    }
   ],
   "source": [
    "from datetime import timedelta\n",
    "pred_steps = 10\n",
    "\n",
    "history = df.loc[(df['Outbreak']=='COVID_2019') & (df['Confirmed'] > 0) & (df['Country/Region']=='Tunisia')]\n",
    "history0 = history.iloc[-1]\n",
    "\n",
    "dt_rng = pd.date_range(start=history0['Date']+timedelta(days=1), \n",
    "                       end=history0['Date']+timedelta(days=pred_steps),freq='D').values\n",
    "dt_rng = pd.to_datetime(dt_rng)\n",
    "\n",
    "pred_months = pd.Series(dt_rng).apply(lambda dt: dt.month)\n",
    "pred_weeks = pd.Series(dt_rng).apply(lambda dt: dt.week)\n",
    "\n",
    "pred_cat = history0[X_mask_cat].values\n",
    "pred_lags = history0[X_mask_lags].values\n",
    "y = history0['Confirmed']\n",
    "\n",
    "print('History 0: ', pred_lags)\n",
    "pred_lags[:n_lags] = np.roll(pred_lags[:n_lags], -1)\n",
    "pred_lags[n_lags-1] = y  \n",
    "print('Pred 0: ', pred_lags)\n",
    "\n",
    "pred = np.zeros(pred_steps)\n",
    "for d in range(pred_steps):     \n",
    "    pred_cat[1] = pred_months[d]\n",
    "    pred_cat[2] = pred_weeks[d]    \n",
    "    y = model_lgbm.predict(np.hstack([pred_cat, pred_lags]).reshape(1,-1))[0]\n",
    "    print(f'Step {d}, predicted for {dt_rng[d].strftime(\"%Y-%m-%d\")} is: {y}')\n",
    "    pred_lags[:n_lags] = np.roll(pred_lags[:n_lags], -1)\n",
    "    pred_lags[n_lags-1] = y   \n",
    "    pred[d] = y\n",
    "preds = pd.Series(data=pred, index=dt_rng, name='Prediction Machine Learning using LGBM Regressor')"
   ]
  },
  {
   "cell_type": "markdown",
   "metadata": {},
   "source": [
    "## Deep Learning With Keras ( ken l countries eli aandhom confirmed cases kbar)"
   ]
  },
  {
   "cell_type": "code",
   "execution_count": 23,
   "metadata": {},
   "outputs": [
    {
     "name": "stdout",
     "output_type": "stream",
     "text": [
      "Model: \"model\"\n",
      "__________________________________________________________________________________________________\n",
      "Layer (type)                    Output Shape         Param #     Connected to                     \n",
      "==================================================================================================\n",
      "input_1 (InputLayer)            [(None, 1, 1)]       0                                            \n",
      "__________________________________________________________________________________________________\n",
      "input_2 (InputLayer)            [(None, 1, 1)]       0                                            \n",
      "__________________________________________________________________________________________________\n",
      "embedding (Embedding)           (None, 1, 1, 1)      2           input_1[0][0]                    \n",
      "__________________________________________________________________________________________________\n",
      "embedding_1 (Embedding)         (None, 1, 1, 2)      420         input_2[0][0]                    \n",
      "__________________________________________________________________________________________________\n",
      "concatenate (Concatenate)       (None, 1, 1, 3)      0           embedding[0][0]                  \n",
      "                                                                 embedding_1[0][0]                \n",
      "__________________________________________________________________________________________________\n",
      "input_3 (InputLayer)            [(None, 5, 1)]       0                                            \n",
      "__________________________________________________________________________________________________\n",
      "reshape (Reshape)               (None, 1, 3)         0           concatenate[0][0]                \n",
      "__________________________________________________________________________________________________\n",
      "lstm (LSTM)                     (None, 5, 64)        16896       input_3[0][0]                    \n",
      "__________________________________________________________________________________________________\n",
      "flatten (Flatten)               (None, 3)            0           reshape[0][0]                    \n",
      "__________________________________________________________________________________________________\n",
      "lstm_1 (LSTM)                   (None, 32)           12416       lstm[0][0]                       \n",
      "__________________________________________________________________________________________________\n",
      "concatenate_1 (Concatenate)     (None, 35)           0           flatten[0][0]                    \n",
      "                                                                 lstm_1[0][0]                     \n",
      "__________________________________________________________________________________________________\n",
      "dense (Dense)                   (None, 32)           1152        concatenate_1[0][0]              \n",
      "__________________________________________________________________________________________________\n",
      "dense_1 (Dense)                 (None, 1)            33          dense[0][0]                      \n",
      "==================================================================================================\n",
      "Total params: 30,919\n",
      "Trainable params: 30,919\n",
      "Non-trainable params: 0\n",
      "__________________________________________________________________________________________________\n"
     ]
    },
    {
     "data": {
      "text/plain": [
       "<tensorflow.python.keras.callbacks.History at 0x1fb5ec4c608>"
      ]
     },
     "execution_count": 23,
     "metadata": {},
     "output_type": "execute_result"
    }
   ],
   "source": [
    "from tensorflow.keras.models import Model\n",
    "from tensorflow.keras.layers import Dense, LSTM, Dropout, TimeDistributed,SimpleRNN, RepeatVector, Input, Concatenate, Flatten, Reshape, Embedding\n",
    "from tensorflow.keras.backend import clear_session\n",
    "\n",
    "clear_session()\n",
    "\n",
    "inp_outbreak = Input(shape=(1,1))\n",
    "inp_country = Input(shape=(1,1))\n",
    "inp_lags = Input(shape=(n_lags,1))\n",
    "\n",
    "emb_outbreak = Embedding(input_dim=2, output_dim=1)(inp_outbreak)\n",
    "emb_country = Embedding(input_dim=210, output_dim=2)(inp_country)\n",
    "\n",
    "lstm1 = LSTM(64, activation='linear', return_sequences=True)(inp_lags)\n",
    "lstm2 = LSTM(32, activation='linear', return_sequences=False)(lstm1)\n",
    "\n",
    "concat1 = Reshape(target_shape=(1,3))(Concatenate(axis=3)([emb_outbreak, emb_country]))\n",
    "concat2 = Concatenate(axis=1)([Flatten()(concat1), lstm2])\n",
    "dense1 = Dense(32, activation='linear')(concat2)\n",
    "dense2 = Dense(1, activation='linear')(dense1)\n",
    "\n",
    "model_keras = Model(inputs=[inp_outbreak, inp_country, inp_lags], outputs=[dense2])\n",
    "model_keras.compile(loss='mean_squared_error', optimizer='adam')\n",
    "model_keras.summary()\n",
    "\n",
    "\n",
    "def prepare_keras_input(data):\n",
    "    lags = data[X_mask_lags_transformed].values.reshape(-1, 5, 1)\n",
    "    y = data['Confirmed_transformed'].values.reshape(-1,1)    \n",
    "    \n",
    "    return [data['Outbreak_enc'].values.reshape(-1,1,1), \n",
    "            data['Country_enc'].values.reshape(-1,1,1), lags], y\n",
    "    \n",
    "train_X, train_y = prepare_keras_input(train)\n",
    "model_keras.fit(train_X, train_y, validation_data=(prepare_keras_input(valid)), epochs=50,shuffle=True, verbose=0)\n"
   ]
  },
  {
   "cell_type": "markdown",
   "metadata": {},
   "source": [
    "### Pred mte3 10 days keras"
   ]
  },
  {
   "cell_type": "code",
   "execution_count": 40,
   "metadata": {},
   "outputs": [
    {
     "name": "stdout",
     "output_type": "stream",
     "text": [
      "Step 0, predicted for 2020-05-07 is: [100378.38]\n",
      "Step 1, predicted for 2020-05-08 is: [100550.125]\n",
      "Step 2, predicted for 2020-05-09 is: [100488.17]\n",
      "Step 3, predicted for 2020-05-10 is: [100402.84]\n",
      "Step 4, predicted for 2020-05-11 is: [100324.25]\n",
      "Step 5, predicted for 2020-05-12 is: [100247.88]\n",
      "Step 6, predicted for 2020-05-13 is: [100169.16]\n",
      "Step 7, predicted for 2020-05-14 is: [100089.17]\n",
      "Step 8, predicted for 2020-05-15 is: [100008.23]\n",
      "Step 9, predicted for 2020-05-16 is: [99926.14]\n"
     ]
    }
   ],
   "source": [
    "from datetime import timedelta\n",
    "from tensorflow import convert_to_tensor\n",
    "\n",
    "pred_steps = 10\n",
    "\n",
    "history = df.loc[(df['Outbreak']=='COVID_2019') & (df['Confirmed'] >0) & (df['Country/Region']=='Iran')]\n",
    "history0 = history.iloc[-1]\n",
    "\n",
    "pred_cat_outbreak = convert_to_tensor(history0['Outbreak_enc'].reshape(-1,1,1), np.int32)\n",
    "pred_cat_country = convert_to_tensor(history0['Country_enc'].reshape(-1,1,1), np.int32)\n",
    "\n",
    "pred_lags = history0[X_mask_lags_transformed].values\n",
    "y = history0['Confirmed_transformed']\n",
    "\n",
    "\n",
    "pred_lags = np.roll(pred_lags, -1)\n",
    "pred_lags[-1] = y\n",
    "\n",
    "pred = np.zeros(pred_steps)\n",
    "\n",
    "dt_rng = pd.date_range(start=history0['Date']+timedelta(days=1), \n",
    "                       end=history0['Date']+timedelta(days=pred_steps),freq='D').values\n",
    "dt_rng = pd.to_datetime(dt_rng)\n",
    "# Scale\n",
    "for d in range(pred_steps):    \n",
    "    y = model_keras.predict([pred_cat_outbreak, pred_cat_country, convert_to_tensor(pred_lags.reshape(-1,5,1), np.float32)])[0][0]\n",
    "   \n",
    "    print(f'Step {d}, predicted for {dt_rng[d].strftime(\"%Y-%m-%d\")} is: {transformer.inverse_transform(y.reshape(-1,1)).reshape(-1)}')\n",
    "    \n",
    "    pred_lags = np.roll(pred_lags, -1)\n",
    "    pred_lags[-1] = y    \n",
    "    pred[d] = y\n",
    "    \n",
    "pred = transformer.inverse_transform(pred.reshape(-1,1)).reshape(-1)\n",
    "preds_keras = pd.Series(data=pred, index=dt_rng, name='Prediction DeepLearning with Keras')"
   ]
  },
  {
   "cell_type": "code",
   "execution_count": 31,
   "metadata": {},
   "outputs": [
    {
     "data": {
      "image/png": "[encoded data removed]",
      "text/plain": [
       "<Figure size 1152x432 with 1 Axes>"
      ]
     },
     "metadata": {
      "needs_background": "light"
     },
     "output_type": "display_data"
    }
   ],
   "source": [
    "from matplotlib import pyplot as plt\n",
    "fig, ax = plt.subplots(figsize=(16,6))\n",
    "\n",
    "hist = history.set_index(['Date'])['Confirmed'].plot(ax=ax, marker='o')\n",
    "preds.plot(ax=ax, marker='o', linewidth=2)\n",
    "preds_keras.plot(ax=ax, marker='*')\n",
    "plt.legend()\n",
    "plt.tight_layout()\n"
   ]
  },
  {
   "cell_type": "code",
   "execution_count": 80,
   "metadata": {},
   "outputs": [
    {
     "data": {
      "text/plain": [
       "Date\n",
       "2020-02-04       1.0\n",
       "2020-02-05       1.0\n",
       "2020-02-06       1.0\n",
       "2020-02-07       1.0\n",
       "2020-02-08       1.0\n",
       "2020-02-09       1.0\n",
       "2020-02-10       1.0\n",
       "2020-02-11       1.0\n",
       "2020-02-12       1.0\n",
       "2020-02-13       1.0\n",
       "2020-02-14       1.0\n",
       "2020-02-15       1.0\n",
       "2020-02-16       1.0\n",
       "2020-02-17       1.0\n",
       "2020-02-18       1.0\n",
       "2020-02-19       1.0\n",
       "2020-02-20       1.0\n",
       "2020-02-21       1.0\n",
       "2020-02-22       1.0\n",
       "2020-02-23       1.0\n",
       "2020-02-24       1.0\n",
       "2020-02-25       1.0\n",
       "2020-02-26       1.0\n",
       "2020-02-27       1.0\n",
       "2020-02-28       1.0\n",
       "2020-02-29       1.0\n",
       "2020-03-01       2.0\n",
       "2020-03-02       8.0\n",
       "2020-03-03      13.0\n",
       "2020-03-04      23.0\n",
       "2020-03-05      50.0\n",
       "2020-03-06     109.0\n",
       "2020-03-07     169.0\n",
       "2020-03-08     200.0\n",
       "2020-03-09     239.0\n",
       "2020-03-10     267.0\n",
       "2020-03-11     314.0\n",
       "2020-03-12     314.0\n",
       "2020-03-13     559.0\n",
       "2020-03-14     689.0\n",
       "2020-03-15     886.0\n",
       "2020-03-16    1058.0\n",
       "2020-03-17    1243.0\n",
       "2020-03-18    1486.0\n",
       "2020-03-19    1795.0\n",
       "2020-03-20    2257.0\n",
       "2020-03-21    2815.0\n",
       "2020-03-22    3401.0\n",
       "2020-03-23    3743.0\n",
       "2020-03-24    4269.0\n",
       "2020-03-25    4937.0\n",
       "2020-03-26    6235.0\n",
       "Name: Confirmed, dtype: float64"
      ]
     },
     "execution_count": 80,
     "metadata": {},
     "output_type": "execute_result"
    }
   ],
   "source": []
  },
  {
   "cell_type": "code",
   "execution_count": null,
   "metadata": {},
   "outputs": [],
   "source": []
  }
 ],
 "metadata": {
  "kernelspec": {
   "display_name": "Python 3",
   "language": "python",
   "name": "python3"
  },
  "language_info": {
   "codemirror_mode": {
    "name": "ipython",
    "version": 3
   },
   "file_extension": ".py",
   "mimetype": "text/x-python",
   "name": "python",
   "nbconvert_exporter": "python",
   "pygments_lexer": "ipython3",
   "version": "3.7.4"
  }
 },
 "nbformat": 4,
 "nbformat_minor": 4
}
